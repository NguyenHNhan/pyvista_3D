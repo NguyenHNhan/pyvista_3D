{
  "nbformat": 4,
  "nbformat_minor": 0,
  "metadata": {
    "colab": {
      "provenance": [],
      "toc_visible": true,
      "include_colab_link": true
    },
    "kernelspec": {
      "name": "python3",
      "display_name": "Python 3"
    },
    "language_info": {
      "name": "python"
    }
  },
  "cells": [
    {
      "cell_type": "markdown",
      "metadata": {
        "id": "view-in-github",
        "colab_type": "text"
      },
      "source": [
        "<a href=\"https://colab.research.google.com/github/NguyenHNhan/pyvista_3D/blob/main/%C4%90%E1%BB%91i_t%C6%B0%E1%BB%A3ng_h%C3%ACnh_h%E1%BB%8Dc.ipynb\" target=\"_parent\"><img src=\"https://colab.research.google.com/assets/colab-badge.svg\" alt=\"Open In Colab\"/></a>"
      ]
    },
    {
      "cell_type": "markdown",
      "source": [
        "# Đối tượng hình học\n"
      ],
      "metadata": {
        "id": "Wbuf_zMwpn0q"
      }
    },
    {
      "cell_type": "code",
      "source": [
        "!apt-get install -qq xvfb libgl1-mesa-glx\n",
        "!pip install pyvista -qq"
      ],
      "metadata": {
        "id": "JmR8cTgppzcS"
      },
      "execution_count": null,
      "outputs": []
    },
    {
      "cell_type": "code",
      "source": [
        "import pyvista\n",
        "pyvista.global_theme.jupyter_backend = 'static'\n",
        "pyvista.global_theme.notebook = True\n",
        "pyvista.start_xvfb()"
      ],
      "metadata": {
        "id": "EgXRyxBhp03K"
      },
      "execution_count": null,
      "outputs": []
    },
    {
      "cell_type": "code",
      "source": [
        "# Tạo một lưới có cấu trúc rõ ràng từ các mảng NumPy.\n",
        "import numpy as np\n",
        "\n",
        "import pyvista as pv\n",
        "\n",
        "ni, nj, nk = 4, 5, 6\n",
        "si, sj, sk = 20, 10, 1\n",
        "\n",
        "xcorn = np.arange(0, (ni + 1) * si, si)\n",
        "xcorn = np.repeat(xcorn, 2)\n",
        "xcorn = xcorn[1:-1]\n",
        "xcorn = np.tile(xcorn, 4 * nj * nk)\n",
        "\n",
        "ycorn = np.arange(0, (nj + 1) * sj, sj)\n",
        "ycorn = np.repeat(ycorn, 2)\n",
        "ycorn = ycorn[1:-1]\n",
        "ycorn = np.tile(ycorn, (2 * ni, 2 * nk))\n",
        "ycorn = np.transpose(ycorn)\n",
        "ycorn = ycorn.flatten()\n",
        "\n",
        "zcorn = np.arange(0, (nk + 1) * sk, sk)\n",
        "zcorn = np.repeat(zcorn, 2)\n",
        "zcorn = zcorn[1:-1]\n",
        "zcorn = np.repeat(zcorn, (4 * ni * nj))\n",
        "\n",
        "corners = np.stack((xcorn, ycorn, zcorn))\n",
        "corners = corners.transpose()\n",
        "\n",
        "if pv._vtk.VTK9:\n",
        "    dims = np.asarray((ni, nj, nk)) + 1\n",
        "    grid = pv.ExplicitStructuredGrid(dims, corners)\n",
        "    grid = grid.compute_connectivity()\n",
        "    grid.plot(show_edges=True)"
      ],
      "metadata": {
        "id": "Js3REwMpp3U9"
      },
      "execution_count": null,
      "outputs": []
    },
    {
      "cell_type": "code",
      "source": [
        "# Một số đối tượng hình học\n",
        "cyl = pv.Cylinder()\n",
        "arrow = pv.Arrow()\n",
        "sphere = pv.Sphere()\n",
        "plane = pv.Plane()\n",
        "line = pv.Line()\n",
        "box = pv.Box()\n",
        "cone = pv.Cone()\n",
        "poly = pv.Polygon()\n",
        "disc = pv.Disc()"
      ],
      "metadata": {
        "id": "9AUtDvLgpt3s"
      },
      "execution_count": null,
      "outputs": []
    },
    {
      "cell_type": "code",
      "source": [
        "p = pv.Plotter(shape=(1, 1))\n",
        "p.add_mesh(cyl)\n",
        "p.show()"
      ],
      "metadata": {
        "id": "HqXWVyShpvdQ"
      },
      "execution_count": null,
      "outputs": []
    },
    {
      "cell_type": "markdown",
      "source": [
        "Đối tượng hình học tham số\n",
        "Supertoroid\n",
        "Parametric Ellipsoid\n",
        "Partial Parametric Ellipsoid\n",
        "Pseudosphere\n",
        "Bohemian Dome\n",
        "Bour\n",
        "Boy’s Surface (Boy)\n",
        "Catalan Minimal\n",
        "Conic Spiral\n",
        "Cross Cap\n",
        "Dini\n",
        "Enneper\n",
        "Figure-8 Klein\n",
        "Henneberg\n",
        "Klein\n",
        "Kuen\n",
        "Mobius\n",
        "Plucker Conoid\n",
        "Random Hills\n",
        "Roman\n",
        "Super Ellipsoid\n",
        "Torus\n",
        "Extruded Half Arc"
      ],
      "metadata": {
        "id": "xaFAuK6RqRC2"
      }
    },
    {
      "cell_type": "markdown",
      "source": [
        "Cú pháp: pv.ParametricTenDoiTuongHinhHoc(thuộc tính nếu có)"
      ],
      "metadata": {
        "id": "EBhgMd8vqhqI"
      }
    },
    {
      "cell_type": "code",
      "source": [
        "from math import pi\n",
        "import pyvista as pv\n",
        "supertoroid = pv.ParametricSuperToroid(n1=0.5)\n",
        "supertoroid.plot(color=\"tan\", smooth_shading=True)"
      ],
      "metadata": {
        "id": "4RxxWQA4q2vt"
      },
      "execution_count": null,
      "outputs": []
    }
  ]
}