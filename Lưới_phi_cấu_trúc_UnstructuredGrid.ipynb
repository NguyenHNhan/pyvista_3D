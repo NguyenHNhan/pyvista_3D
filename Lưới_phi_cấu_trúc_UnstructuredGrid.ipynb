{
  "nbformat": 4,
  "nbformat_minor": 0,
  "metadata": {
    "colab": {
      "provenance": [],
      "include_colab_link": true
    },
    "kernelspec": {
      "name": "python3",
      "display_name": "Python 3"
    },
    "language_info": {
      "name": "python"
    }
  },
  "cells": [
    {
      "cell_type": "markdown",
      "metadata": {
        "id": "view-in-github",
        "colab_type": "text"
      },
      "source": [
        "<a href=\"https://colab.research.google.com/github/NguyenHNhan/pyvista_3D/blob/main/L%C6%B0%E1%BB%9Bi_phi_c%E1%BA%A5u_tr%C3%BAc_UnstructuredGrid.ipynb\" target=\"_parent\"><img src=\"https://colab.research.google.com/assets/colab-badge.svg\" alt=\"Open In Colab\"/></a>"
      ]
    },
    {
      "cell_type": "markdown",
      "source": [
        "# 1 Lưới phi cấu trúc"
      ],
      "metadata": {
        "id": "QsKQuF0EOTUt"
      }
    },
    {
      "cell_type": "code",
      "execution_count": null,
      "metadata": {
        "id": "MHyQWeDZNksS"
      },
      "outputs": [],
      "source": [
        "from pyvista import CellType"
      ]
    },
    {
      "cell_type": "code",
      "source": [
        "cells = np.array([8, 0, 1, 2, 3, 4, 5, 6, 7, 8, 8, 9, 10, 11, 12, 13, 14, 15])\n",
        "cell_type = np.array([CellType.HEXAHEDRON, CellType.HEXAHEDRON])\n",
        "cell1 = np.array(\n",
        "    [\n",
        "        [0, 0, 0],\n",
        "        [1, 0, 0],\n",
        "        [1, 1, 0],\n",
        "        [0, 1, 0],\n",
        "        [0, 0, 1],\n",
        "        [1, 0, 1],\n",
        "        [1, 1, 1],\n",
        "        [0, 1, 1],\n",
        "    ]\n",
        ")\n",
        "cell2 = np.array(\n",
        "    [\n",
        "        [0, 0, 2],\n",
        "        [1, 0, 2],\n",
        "        [1, 1, 2],\n",
        "        [0, 1, 2],\n",
        "        [0, 0, 3],\n",
        "        [1, 0, 3],\n",
        "        [1, 1, 3],\n",
        "        [0, 1, 3],\n",
        "    ]\n",
        ")\n",
        "points = np.vstack((cell1, cell2)).astype(float)\n",
        "grid = pv.UnstructuredGrid(cells, cell_type, points)\n",
        "cells_hex = np.arange(16).reshape([2, 8])\n",
        "grid = pv.UnstructuredGrid({CellType.HEXAHEDRON: cells_hex}, points)\n",
        "_ = grid.plot(show_edges=True)"
      ],
      "metadata": {
        "id": "h3dxye_GOQvx"
      },
      "execution_count": null,
      "outputs": []
    },
    {
      "cell_type": "markdown",
      "source": [
        "# 2 Shared Points"
      ],
      "metadata": {
        "id": "fQQVdc5TOVsx"
      }
    },
    {
      "cell_type": "code",
      "source": [
        "points = np.array(\n",
        "    [\n",
        "        [0.0, 0.0, 0.0],\n",
        "        [1.0, 0.0, 0.0],\n",
        "        [0.5, 0.0, 0.0],\n",
        "        [1.0, 1.0, 0.0],\n",
        "        [1.0, 0.5, 0.0],\n",
        "        [0.0, 1.0, 0.0],\n",
        "        [0.5, 1.0, 0.0],\n",
        "        [0.0, 0.5, 0.0],\n",
        "        [0.5, 0.5, 0.0],\n",
        "        [1.0, 0.0, 0.5],\n",
        "        [1.0, 0.0, 1.0],\n",
        "        [0.0, 0.0, 0.5],\n",
        "        [0.0, 0.0, 1.0],\n",
        "        [0.5, 0.0, 0.5],\n",
        "        [0.5, 0.0, 1.0],\n",
        "        [1.0, 1.0, 0.5],\n",
        "        [1.0, 1.0, 1.0],\n",
        "        [1.0, 0.5, 0.5],\n",
        "        [1.0, 0.5, 1.0],\n",
        "        [0.0, 1.0, 0.5],\n",
        "        [0.0, 1.0, 1.0],\n",
        "        [0.5, 1.0, 0.5],\n",
        "        [0.5, 1.0, 1.0],\n",
        "        [0.0, 0.5, 0.5],\n",
        "        [0.0, 0.5, 1.0],\n",
        "        [0.5, 0.5, 0.5],\n",
        "        [0.5, 0.5, 1.0],\n",
        "    ]\n",
        ")"
      ],
      "metadata": {
        "id": "rR6L_SkEOVYq"
      },
      "execution_count": null,
      "outputs": []
    },
    {
      "cell_type": "code",
      "source": [
        "cells = np.array(\n",
        "    [\n",
        "        [8, 0, 2, 8, 7, 11, 13, 25, 23],\n",
        "        [8, 2, 1, 4, 8, 13, 9, 17, 25],\n",
        "        [8, 7, 8, 6, 5, 23, 25, 21, 19],\n",
        "        [8, 8, 4, 3, 6, 25, 17, 15, 21],\n",
        "        [8, 11, 13, 25, 23, 12, 14, 26, 24],\n",
        "        [8, 13, 9, 17, 25, 14, 10, 18, 26],\n",
        "        [8, 23, 25, 21, 19, 24, 26, 22, 20],\n",
        "        [8, 25, 17, 15, 21, 26, 18, 16, 22],\n",
        "    ]\n",
        ").ravel()"
      ],
      "metadata": {
        "id": "ezT_dzRrOaqg"
      },
      "execution_count": null,
      "outputs": []
    },
    {
      "cell_type": "code",
      "source": [
        "celltypes = np.full(8, CellType.HEXAHEDRON, dtype=np.uint8)"
      ],
      "metadata": {
        "id": "b17coqbPObvm"
      },
      "execution_count": null,
      "outputs": []
    },
    {
      "cell_type": "code",
      "source": [
        "grid = pv.UnstructuredGrid(cells, celltypes, points)\n",
        "grid = pv.UnstructuredGrid({CellType.HEXAHEDRON: cells.reshape([-1, 9])[:, 1:]}, points)\n",
        "grid = pv.UnstructuredGrid(\n",
        "    {CellType.HEXAHEDRON: np.delete(cells, np.arange(0, cells.size, 9))}, points\n",
        ")\n",
        "_ = grid.plot(show_edges=True)"
      ],
      "metadata": {
        "id": "yuc52--AOdDU"
      },
      "execution_count": null,
      "outputs": []
    },
    {
      "cell_type": "markdown",
      "source": [
        "# 3 Tetrahedral"
      ],
      "metadata": {
        "id": "B_SXfV9-OeXs"
      }
    },
    {
      "cell_type": "code",
      "source": [
        "cells = np.array(\n",
        "    [\n",
        "        [4, 6, 5, 8, 7],\n",
        "        [4, 7, 3, 8, 9],\n",
        "        [4, 7, 3, 1, 5],\n",
        "        [4, 9, 3, 1, 7],\n",
        "        [4, 2, 6, 5, 8],\n",
        "        [4, 2, 6, 0, 4],\n",
        "        [4, 6, 2, 0, 8],\n",
        "        [4, 5, 2, 8, 3],\n",
        "        [4, 5, 3, 8, 7],\n",
        "        [4, 2, 6, 4, 5],\n",
        "    ]\n",
        ")\n",
        "celltypes = np.full(10, fill_value=CellType.TETRA, dtype=np.uint8)\n",
        "points = np.array(\n",
        "    [\n",
        "        [-0.0, 0.0, -0.5],\n",
        "        [0.0, 0.0, 0.5],\n",
        "        [-0.43, 0.0, -0.25],\n",
        "        [-0.43, 0.0, 0.25],\n",
        "        [-0.0, 0.43, -0.25],\n",
        "        [0.0, 0.43, 0.25],\n",
        "        [0.43, 0.0, -0.25],\n",
        "        [0.43, 0.0, 0.25],\n",
        "        [0.0, -0.43, -0.25],\n",
        "        [0.0, -0.43, 0.25],\n",
        "    ]\n",
        ")\n",
        "grid = pv.UnstructuredGrid(cells, celltypes, points)\n",
        "grid.plot(show_edges=True)"
      ],
      "metadata": {
        "id": "SY2rS-JHOgVz"
      },
      "execution_count": null,
      "outputs": []
    },
    {
      "cell_type": "markdown",
      "source": [
        "# 4 Polyhedra"
      ],
      "metadata": {
        "id": "gidpiFMFOnGz"
      }
    },
    {
      "cell_type": "code",
      "source": [
        "quad_points = [\n",
        "    [0.0, 0.0, 0.0],  # 0\n",
        "    [0.0, 0.01, 0.0],  # 1\n",
        "    [0.01, 0.01, 0.0],  # 2\n",
        "    [0.01, 0.0, 0.0],  # 3\n",
        "]"
      ],
      "metadata": {
        "id": "EmqUMk89Ooeb"
      },
      "execution_count": null,
      "outputs": []
    },
    {
      "cell_type": "code",
      "source": [
        "polygon_points = [\n",
        "    [0.02, 0.0, 0.0],  # 4\n",
        "    [0.02, 0.01, 0.0],  # 5\n",
        "    [0.03, 0.01, 0.0],  # 6\n",
        "    [0.035, 0.005, 0.0],  # 7\n",
        "    [0.03, 0.0, 0.0],  # 8\n",
        "]"
      ],
      "metadata": {
        "id": "kW7DZxSLOphF"
      },
      "execution_count": null,
      "outputs": []
    },
    {
      "cell_type": "code",
      "source": [
        "hexa_points = [\n",
        "    [0.0, 0.0, 0.02],  # 9\n",
        "    [0.0, 0.01, 0.02],  # 10\n",
        "    [0.01, 0.01, 0.02],  # 11\n",
        "    [0.01, 0.0, 0.02],  # 12\n",
        "    [0.0, 0.0, 0.03],  # 13\n",
        "    [0.0, 0.01, 0.03],  # 14\n",
        "    [0.01, 0.01, 0.03],  # 15\n",
        "    [0.01, 0.0, 0.03],  # 16\n",
        "]"
      ],
      "metadata": {
        "id": "WG0D9lVSOtIQ"
      },
      "execution_count": null,
      "outputs": []
    },
    {
      "cell_type": "code",
      "source": [
        "polyhedron_points = [\n",
        "    [0.02, 0.0, 0.02],  # 17\n",
        "    [0.02, 0.01, 0.02],  # 18\n",
        "    [0.03, 0.01, 0.02],  # 19\n",
        "    [0.035, 0.005, 0.02],  # 20\n",
        "    [0.03, 0.0, 0.02],  # 21\n",
        "    [0.02, 0.0, 0.03],  # 22\n",
        "    [0.02, 0.01, 0.03],  # 23\n",
        "    [0.03, 0.01, 0.03],  # 24\n",
        "    [0.035, 0.005, 0.03],  # 25\n",
        "    [0.03, 0.0, 0.03],  # 26\n",
        "]"
      ],
      "metadata": {
        "id": "OQ_3kon2OuPR"
      },
      "execution_count": null,
      "outputs": []
    },
    {
      "cell_type": "markdown",
      "source": [
        "Triển khai kết nối"
      ],
      "metadata": {
        "id": "PoTUxaXPOvja"
      }
    },
    {
      "cell_type": "code",
      "source": [
        "points = quad_points + polygon_points + hexa_points + polyhedron_points"
      ],
      "metadata": {
        "id": "JViPJU1zOwL6"
      },
      "execution_count": null,
      "outputs": []
    },
    {
      "cell_type": "code",
      "source": [
        "quad = [4, 0, 1, 2, 3]\n",
        "polygon = [5, 4, 5, 6, 7, 8]\n",
        "hexa = [8, 9, 10, 11, 12, 13, 14, 15, 16]"
      ],
      "metadata": {
        "id": "prk5zFCOOx1G"
      },
      "execution_count": null,
      "outputs": []
    },
    {
      "cell_type": "code",
      "source": [
        "polyhedron_connectivity = [\n",
        "    # NItems will go here\n",
        "    7,  # number of faces\n",
        "    5,  # number of points in face0\n",
        "    17,  # point index 0\n",
        "    18,  # point index 1\n",
        "    19,  # point index 2\n",
        "    20,  # point index 3\n",
        "    21,  # point index 4\n",
        "    4,  # number of points in face1\n",
        "    17,  # point index ...\n",
        "    18,\n",
        "    23,\n",
        "    22,\n",
        "    4,\n",
        "    17,\n",
        "    21,\n",
        "    26,\n",
        "    22,\n",
        "    4,\n",
        "    21,\n",
        "    26,\n",
        "    25,\n",
        "    20,\n",
        "    4,\n",
        "    20,\n",
        "    25,\n",
        "    24,\n",
        "    19,\n",
        "    4,\n",
        "    19,\n",
        "    24,\n",
        "    23,\n",
        "    18,\n",
        "    5,\n",
        "    22,\n",
        "    23,\n",
        "    24,\n",
        "    25,\n",
        "    26,\n",
        "]\n",
        "# note how we retroactively add NItems\n",
        "polyhedron = [len(polyhedron_connectivity)] + polyhedron_connectivity"
      ],
      "metadata": {
        "id": "szubWyOtOy0B"
      },
      "execution_count": null,
      "outputs": []
    },
    {
      "cell_type": "code",
      "source": [
        "cells = quad + polygon + hexa + polyhedron\n",
        "celltypes = [pv.CellType.QUAD, pv.CellType.POLYGON, pv.CellType.HEXAHEDRON, pv.CellType.POLYHEDRON]"
      ],
      "metadata": {
        "id": "CPVG5SdnO2j0"
      },
      "execution_count": null,
      "outputs": []
    },
    {
      "cell_type": "code",
      "source": [
        "grid = pv.UnstructuredGrid(cells, celltypes, points)\n",
        "pl = pv.Plotter()\n",
        "pl.show_axes()\n",
        "pl.add_mesh(grid, show_edges=True, line_width=5)\n",
        "pl.add_point_labels(\n",
        "    grid.cell_centers().points,\n",
        "    ['QUAD', 'POLYGON', 'HEXAHEDRON', 'POLYHEDRON'],\n",
        "    always_visible=True,\n",
        "    font_size=20,\n",
        ")\n",
        "pl.show()"
      ],
      "metadata": {
        "id": "2Z9cUCS4O4Ll"
      },
      "execution_count": null,
      "outputs": []
    },
    {
      "cell_type": "markdown",
      "source": [
        "# 5 Linear Cells"
      ],
      "metadata": {
        "id": "_9U2GxVuO7jJ"
      }
    },
    {
      "cell_type": "code",
      "source": [
        "grid = example_cells.Wedge()\n",
        "example_cells.plot_cell(grid)"
      ],
      "metadata": {
        "id": "r9FeMq5yO9Up"
      },
      "execution_count": null,
      "outputs": []
    },
    {
      "cell_type": "code",
      "source": [
        "grid.points\n",
        "grid.cells"
      ],
      "metadata": {
        "id": "U715Dr8APIrR"
      },
      "execution_count": null,
      "outputs": []
    },
    {
      "cell_type": "code",
      "source": [
        "grid_a = example_cells.Hexahedron()\n",
        "grid_a.points += [0, 2.5, 0]\n",
        "grid_b = example_cells.HexagonalPrism()\n",
        "combined = grid_b + grid_a\n",
        "plot_cell(combined, cpos='iso')"
      ],
      "metadata": {
        "id": "IdVk6cmIPWxQ"
      },
      "execution_count": null,
      "outputs": []
    }
  ]
}