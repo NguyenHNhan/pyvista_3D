{
  "cells": [
    {
      "cell_type": "markdown",
      "metadata": {
        "id": "view-in-github",
        "colab_type": "text"
      },
      "source": [
        "<a href=\"https://colab.research.google.com/github/NguyenHNhan/pyvista_3D/blob/main/hinh_hop_chu_nhat.ipynb\" target=\"_parent\"><img src=\"https://colab.research.google.com/assets/colab-badge.svg\" alt=\"Open In Colab\"/></a>"
      ]
    },
    {
      "cell_type": "code",
      "execution_count": null,
      "metadata": {
        "id": "r15aJFYF1mtO"
      },
      "outputs": [],
      "source": [
        "!apt-get install -qq xvfb libgl1-mesa-glx\n",
        "!pip install pyvista -qq"
      ]
    },
    {
      "cell_type": "code",
      "source": [
        "import pyvista as pv\n",
        "pv.global_theme.jupyter_backend = 'static'\n",
        "pv.global_theme.notebook = True\n",
        "pv.start_xvfb()"
      ],
      "metadata": {
        "id": "GUE48sCpNWwJ"
      },
      "execution_count": null,
      "outputs": []
    },
    {
      "cell_type": "code",
      "source": [
        "import pyvista as pv\n",
        "from pyvista import examples\n",
        "import numpy as np"
      ],
      "metadata": {
        "id": "bSxwC771NvI1"
      },
      "execution_count": null,
      "outputs": []
    },
    {
      "cell_type": "code",
      "execution_count": null,
      "metadata": {
        "id": "GbyLgiWc1nqf"
      },
      "outputs": [],
      "source": [
        "kinds = [\n",
        "    'tetrahedron',\n",
        "    'cube',\n",
        "    'octahedron',\n",
        "    'dodecahedron',\n",
        "    'icosahedron',\n",
        "]\n",
        "centers = [\n",
        "    (0, 1, 0),\n",
        "    (0, 0, 0),\n",
        "    (0, 2, 0),\n",
        "    (-1, 0, 0),\n",
        "    (-1, 2, 0),\n",
        "]\n",
        "\n",
        "solids = [pv.PlatonicSolid(kind, radius=0.4, center=center) for kind, center in zip(kinds, centers)]\n",
        "\n",
        "# download and align teapotahedron\n",
        "teapot = examples.download_teapot()\n",
        "teapot.rotate_x(90, inplace=True)\n",
        "teapot.rotate_z(-45, inplace=True)\n",
        "teapot.scale(0.16, inplace=True)\n",
        "teapot.points += np.array([-1, 1, 0]) - teapot.center\n",
        "solids.append(teapot)"
      ]
    },
    {
      "cell_type": "code",
      "execution_count": null,
      "metadata": {
        "id": "es_9jGmt1rZG"
      },
      "outputs": [],
      "source": [
        "p = pv.Plotter(window_size=[1000, 1000])\n",
        "mau=[\"grey\",\"red\",\"blue\",\"green\",\"white\",\"cyan\"]\n",
        "for ind, solid in enumerate(solids):\n",
        "    # only use smooth shading for the teapot\n",
        "    smooth_shading = ind == len(solids) - 1\n",
        "    p.add_mesh(\n",
        "        solid, color=mau[ind], smooth_shading=smooth_shading, specular=1.0, specular_power=10\n",
        "    )\n",
        "p.view_vector((5.0, 2, 3))\n",
        "p.add_floor('-z', lighting=True, color='tan', pad=1.0)\n",
        "p.enable_shadows()\n",
        "p.show()"
      ]
    },
    {
      "cell_type": "code",
      "execution_count": null,
      "metadata": {
        "id": "-YOLll142woX"
      },
      "outputs": [],
      "source": [
        "points = np.array([[1, 0, 0], [0, 0, 1], [0, 1, 0]])"
      ]
    },
    {
      "cell_type": "code",
      "execution_count": null,
      "metadata": {
        "id": "Sa-rX5At26xo"
      },
      "outputs": [],
      "source": [
        "faces = np.hstack([[3, 0, 1, 2], [3, 0, 2, 3], [3, 0, 3, 1], [3, 1, 3, 2]])"
      ]
    },
    {
      "cell_type": "code",
      "execution_count": null,
      "metadata": {
        "id": "TNX6Qrqa20q_"
      },
      "outputs": [],
      "source": [
        "polydata = pv.PolyData(points, faces)\n",
        "plotter = pv.Plotter()\n",
        "plotter.add_mesh(polydata)"
      ]
    },
    {
      "cell_type": "code",
      "execution_count": null,
      "metadata": {
        "id": "kcBIJyy64mXC"
      },
      "outputs": [],
      "source": [
        "# mesh points\n",
        "vertices = np.array([[0, 0, 0], [1, 0, 0], [1, 1, 0], [0, 1, 0], [0.5, 0.5, -1]])\n",
        "\n",
        "# mesh faces\n",
        "faces = np.hstack(\n",
        "    [\n",
        "        [4, 0, 1, 2, 3],  # square\n",
        "        [3, 0, 1, 4],  # triangle\n",
        "        [3, 1, 2, 4],  # triangle\n",
        "    ]\n",
        ")\n",
        "surf = pv.PolyData(vertices, faces)\n",
        "# plot each face with a different color\n",
        "surf.plot(\n",
        "    scalars=np.arange(3),\n",
        "    cpos=[-1, 1, 0.5],\n",
        "    show_scalar_bar=False,\n",
        "    show_edges=True,\n",
        "    line_width=5,\n",
        ")"
      ]
    },
    {
      "cell_type": "code",
      "execution_count": null,
      "metadata": {
        "id": "44jpCTzbNKfY"
      },
      "outputs": [],
      "source": [
        "# mesh points\n",
        "vertices = np.array([[0, 0, 0], [1, 0, 0], [1, 1, 0], [0, 1, 0], [0,0,-1],[1,0,-1],[1,1,-1],[0,1,-1]])\n",
        "\n",
        "# mesh faces\n",
        "faces = np.hstack(\n",
        "    [\n",
        "        [4, 0, 1, 2, 3],  # square\n",
        "        [4, 0, 1, 5, 4],\n",
        "        [4, 0, 3, 7, 4],\n",
        "        [4, 3, 2, 6, 7],\n",
        "        [4, 1, 2, 6, 5],\n",
        "        [4, 4, 5, 6, 7]\n",
        "    ]\n",
        ")\n",
        "surf = pv.PolyData(vertices, faces)\n",
        "# plot each face with a different color\n",
        "surf.plot(\n",
        "    scalars=np.arange(6),\n",
        "    cpos=[-1, 1, 0.5],\n",
        "    show_scalar_bar=False,\n",
        "    show_edges=True,\n",
        "    line_width=5,\n",
        ")"
      ]
    },
    {
      "cell_type": "code",
      "source": [
        "from google.colab import drive\n",
        "drive.mount('/content/drive')"
      ],
      "metadata": {
        "id": "VPMjVh4vPwma"
      },
      "execution_count": null,
      "outputs": []
    },
    {
      "cell_type": "code",
      "execution_count": null,
      "metadata": {
        "id": "nfI65hWENKfZ"
      },
      "outputs": [],
      "source": [
        "import numpy as np\n",
        "import pyvista as pv"
      ]
    },
    {
      "cell_type": "code",
      "execution_count": null,
      "metadata": {
        "id": "F0D-X2osNKfZ"
      },
      "outputs": [],
      "source": [
        "# generate random points\n",
        "n_points = 1000000\n",
        "points = np.random.uniform(-1, 1, (n_points, 3))"
      ]
    },
    {
      "cell_type": "code",
      "execution_count": null,
      "metadata": {
        "id": "BQeXWYFPNKfa"
      },
      "outputs": [],
      "source": [
        "cloud = pv.PolyData(points)"
      ]
    },
    {
      "cell_type": "code",
      "execution_count": null,
      "metadata": {
        "id": "j3CMwyHiNKfa"
      },
      "outputs": [],
      "source": [
        "cloud.plot()"
      ]
    },
    {
      "cell_type": "code",
      "execution_count": null,
      "metadata": {
        "id": "f2JiiUyONKfa"
      },
      "outputs": [],
      "source": [
        "cloud.plot(render_points_as_spheres=True, color = 'white')"
      ]
    },
    {
      "cell_type": "code",
      "execution_count": null,
      "metadata": {
        "id": "gag-FCGeNKfa"
      },
      "outputs": [],
      "source": [
        "pv.plot(\n",
        "    points,\n",
        "    scalars=points[:, 1],\n",
        "    render_points_as_spheres=True,\n",
        "    point_size= 5,\n",
        "    show_scalar_bar=False,\n",
        ")"
      ]
    },
    {
      "cell_type": "code",
      "execution_count": null,
      "metadata": {
        "id": "HP_mQQq3NKfa"
      },
      "outputs": [],
      "source": [
        "scalars = np.linalg.norm(cloud.points - cloud.center, axis=1)\n",
        "pl = pv.Plotter(off_screen=True)\n",
        "pl.add_mesh(\n",
        "    cloud,\n",
        "    style='points_gaussian',\n",
        "    color='red',\n",
        "    scalars=scalars,\n",
        "    opacity=0.25,\n",
        "    point_size=4.0,\n",
        "    show_scalar_bar=False,\n",
        ")\n",
        "pl.background_color = 'k'\n",
        "pl.show(auto_close=False)\n",
        "path = pl.generate_orbital_path(n_points=36, shift=cloud.length, factor=3.0)\n",
        "pl.open_gif(\"orbit_cloud1.gif\")\n",
        "pl.orbit_on_path(path, write_frames=True)\n",
        "pl.close()"
      ]
    },
    {
      "cell_type": "code",
      "execution_count": null,
      "metadata": {
        "id": "i4iRfLi3NKfb"
      },
      "outputs": [],
      "source": [
        "rgba = points - points.min(axis=0)\n",
        "rgba /= rgba.max(axis=0)\n",
        "pv.plot(points, scalars=rgba, render_points_as_spheres=True, point_size=10, cpos=\"iso\", rgba=True)"
      ]
    },
    {
      "cell_type": "code",
      "execution_count": null,
      "metadata": {
        "id": "0s2yk0eRNKfb"
      },
      "outputs": [],
      "source": [
        "from pyvista import examples"
      ]
    },
    {
      "cell_type": "code",
      "execution_count": null,
      "metadata": {
        "id": "D5VYMzg_NKfb"
      },
      "outputs": [],
      "source": [
        "cloud = examples.download_cloud_dark_matter()\n",
        "scalars = np.linalg.norm(cloud.points - cloud.center, axis=1)\n",
        "\n",
        "pl = pv.Plotter(off_screen=True)\n",
        "pl.add_mesh(\n",
        "    cloud,\n",
        "    style='points_gaussian',\n",
        "    color='#fff7c2',\n",
        "    scalars=scalars,\n",
        "    opacity=0.25,\n",
        "    point_size=4.0,\n",
        "    show_scalar_bar=False,\n",
        ")\n",
        "pl.background_color = 'k'\n",
        "pl.show(auto_close=False)\n",
        "path = pl.generate_orbital_path(n_points=36, shift=cloud.length, factor=3.0)\n",
        "pl.open_gif(\"orbit_cloud.gif\")\n",
        "pl.orbit_on_path(path, write_frames=True)\n",
        "pl.close()"
      ]
    },
    {
      "cell_type": "code",
      "execution_count": null,
      "metadata": {
        "id": "unNyClO-NKfb"
      },
      "outputs": [],
      "source": [
        "from pyvista.demos import logo\n",
        "import pyvista as pv\n",
        "import numpy as np\n",
        "alien_str = \"\"\"\n",
        "    % %     % %\n",
        "  % % % % % % % %\n",
        "% % % % % % % % % %\n",
        "% % % % % % % % % %\n",
        "  % % % % % % % %\n",
        "    % % % % % %\n",
        "      % % % %\n",
        "        % %\n",
        "\n",
        "\"\"\"\n",
        "\n",
        "alien = []\n",
        "for line in alien_str.splitlines()[1:]:  # skip first linebreak\n",
        "    if not line:\n",
        "        continue\n",
        "    if len(line) < 20:\n",
        "        line += (20 - len(line)) * ' '\n",
        "    alien.append([line[i : i + 2] == '% ' for i in range(0, len(line), 2)])\n",
        "def draw_pixels(plotter, pixels, center, color):\n",
        "    bounds = [\n",
        "        center[0] - 1.0,\n",
        "        center[0] + 1.0,\n",
        "        center[1] - 1.0,\n",
        "        center[1] + 1.0,\n",
        "        -10.0,\n",
        "        +10.0,\n",
        "    ]\n",
        "    for rows in pixels:\n",
        "        for pixel in rows:\n",
        "            if pixel:\n",
        "                box = pv.Box(bounds=bounds)\n",
        "                plotter.add_mesh(box, color=color)\n",
        "            bounds[0] += 2.0\n",
        "            bounds[1] += 2.0\n",
        "        bounds[0] = center[0] - 1.0\n",
        "        bounds[1] = center[0] + 1.0\n",
        "        bounds[2] += -2.0\n",
        "        bounds[3] += -2.0\n",
        "    return plotter\n",
        "# Display MONSTERS\n",
        "p = pv.Plotter()\n",
        "p = draw_pixels(p, alien, [0.0, 22.0], \"green\")\n",
        "\n",
        "p.show(cpos=\"xy\")\n",
        "scalars = np.linalg.norm(alien, axis=1)\n",
        "\n",
        "path = p.generate_orbital_path(n_points=36, factor=1.0)\n",
        "p.open_gif(\"orbit_cloud.gif\")\n",
        "p.orbit_on_path(path, write_frames=True)\n",
        "p.close()"
      ]
    },
    {
      "cell_type": "code",
      "execution_count": null,
      "metadata": {
        "id": "i7IHIobINKfb"
      },
      "outputs": [],
      "source": [
        "obj = pv.read('./Armadillo.ply')"
      ]
    },
    {
      "cell_type": "code",
      "execution_count": null,
      "metadata": {
        "id": "jFxuiSXWNKfc"
      },
      "outputs": [],
      "source": [
        "cloud = pv.PolyData(obj)\n",
        "scalars = np.linalg.norm(cloud.points - cloud.center, axis=1)\n",
        "\n",
        "pl = pv.Plotter(off_screen=True)\n",
        "pl.add_mesh(\n",
        "    cloud,\n",
        "    style='points_gaussian',\n",
        "    color='#fff7c2',\n",
        "    scalars=scalars,\n",
        "    opacity=0.25,\n",
        "    point_size=4.0,\n",
        "    show_scalar_bar=False,\n",
        ")\n",
        "pl.background_color = 'k'\n",
        "pl.show(auto_close=False)\n",
        "path = pl.generate_orbital_path(n_points=36, shift=cloud.length, factor=3.0)\n",
        "pl.open_gif(\"orbit_cloud4.gif\")\n",
        "pl.orbit_on_path(path, write_frames=True)\n",
        "pl.close()"
      ]
    },
    {
      "cell_type": "code",
      "source": [],
      "metadata": {
        "id": "7vJhleVmN0dt"
      },
      "execution_count": null,
      "outputs": []
    }
  ],
  "metadata": {
    "colab": {
      "provenance": [],
      "include_colab_link": true
    },
    "kernelspec": {
      "display_name": "Python 3",
      "name": "python3"
    },
    "language_info": {
      "codemirror_mode": {
        "name": "ipython",
        "version": 3
      },
      "file_extension": ".py",
      "mimetype": "text/x-python",
      "name": "python",
      "nbconvert_exporter": "python",
      "pygments_lexer": "ipython3",
      "version": "3.9.13"
    }
  },
  "nbformat": 4,
  "nbformat_minor": 0
}