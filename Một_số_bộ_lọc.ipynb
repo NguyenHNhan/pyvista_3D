{
  "nbformat": 4,
  "nbformat_minor": 0,
  "metadata": {
    "colab": {
      "provenance": [],
      "toc_visible": true,
      "include_colab_link": true
    },
    "kernelspec": {
      "name": "python3",
      "display_name": "Python 3"
    },
    "language_info": {
      "name": "python"
    }
  },
  "cells": [
    {
      "cell_type": "markdown",
      "metadata": {
        "id": "view-in-github",
        "colab_type": "text"
      },
      "source": [
        "<a href=\"https://colab.research.google.com/github/NguyenHNhan/pyvista_3D/blob/main/M%E1%BB%99t_s%E1%BB%91_b%E1%BB%99_l%E1%BB%8Dc.ipynb\" target=\"_parent\"><img src=\"https://colab.research.google.com/assets/colab-badge.svg\" alt=\"Open In Colab\"/></a>"
      ]
    },
    {
      "cell_type": "markdown",
      "source": [
        "#4.1 Read File"
      ],
      "metadata": {
        "id": "GJe3_EkWE8Lm"
      }
    },
    {
      "cell_type": "code",
      "execution_count": null,
      "metadata": {
        "id": "l2vH-MartvOt"
      },
      "outputs": [],
      "source": [
        "mesh = pv.read(filename)\n",
        "cpos = mesh.plot()"
      ]
    },
    {
      "cell_type": "code",
      "source": [
        "mesh.points"
      ],
      "metadata": {
        "id": "xSk95DGKFCAR"
      },
      "execution_count": null,
      "outputs": []
    },
    {
      "cell_type": "markdown",
      "source": [
        "# 4.2 Extract Cell Centers"
      ],
      "metadata": {
        "id": "j4Mx6w6gFFRg"
      }
    },
    {
      "cell_type": "code",
      "source": [
        "import pyvista as pv\n",
        "from pyvista import examples"
      ],
      "metadata": {
        "id": "RxsQzK7fFHmH"
      },
      "execution_count": null,
      "outputs": []
    },
    {
      "cell_type": "code",
      "source": [
        "mesh = examples.download_teapot()"
      ],
      "metadata": {
        "id": "k9tsrLP-FJgt"
      },
      "execution_count": null,
      "outputs": []
    },
    {
      "cell_type": "code",
      "source": [
        "cpos = [\n",
        "    (6.192871661244108, 5.687542355343226, -4.95345468836544),\n",
        "    (0.48853358141600634, 1.2019347531215714, 0.1656178278582367),\n",
        "    (-0.40642070472687936, 0.8621356761976646, 0.30256286387543047),\n",
        "]"
      ],
      "metadata": {
        "id": "nUfLkaBqFJcL"
      },
      "execution_count": null,
      "outputs": []
    },
    {
      "cell_type": "code",
      "source": [
        "centers = mesh.cell_centers()\n",
        "pl = pv.Plotter()\n",
        "pl.add_mesh(mesh, show_edges=True, line_width=1)\n",
        "pl.add_mesh(centers, color=\"r\", point_size=8.0, render_points_as_spheres=True)\n",
        "pl.show(cpos=cpos)"
      ],
      "metadata": {
        "id": "w8woF-R3FMJg"
      },
      "execution_count": null,
      "outputs": []
    },
    {
      "cell_type": "code",
      "source": [
        "# Lấy các tâm của lưới có hình học 3D\n",
        "grid = examples.download_letter_a()\n",
        "cpos = [\n",
        "    (2.704583323659036, 0.7822568412034183, 1.7251126717482546),\n",
        "    (3.543391913452799, 0.31117673768140197, 0.16407006760146028),\n",
        "    (0.1481171795711516, 0.96599698246102, -0.2119224645762945),\n",
        "]\n",
        "centers = grid.cell_centers()\n",
        "pl = pv.Plotter()\n",
        "pl.add_mesh(grid, show_edges=True, opacity=0.5, line_width=1)\n",
        "pl.add_mesh(centers, color=\"r\", point_size=8.0, render_points_as_spheres=True)\n",
        "pl.show(cpos=cpos)\n",
        "\n",
        "pl = pv.Plotter()\n",
        "pl.add_mesh(grid.extract_all_edges(), color=\"k\", line_width=1)\n",
        "pl.add_mesh(centers, color=\"r\", point_size=8.0, render_points_as_spheres=True)\n",
        "pl.show(cpos=cpos)"
      ],
      "metadata": {
        "id": "rLwnShXmFOGj"
      },
      "execution_count": null,
      "outputs": []
    },
    {
      "cell_type": "markdown",
      "source": [
        "# 4.3 Collision"
      ],
      "metadata": {
        "id": "EeM1qhSbFWdf"
      }
    },
    {
      "cell_type": "code",
      "source": [
        "import numpy as np\n",
        "import pyvista as pv\n",
        "pv.set_plot_theme(\"document\")"
      ],
      "metadata": {
        "id": "lz7qeVWMFcW0"
      },
      "execution_count": null,
      "outputs": []
    },
    {
      "cell_type": "code",
      "source": [
        "sphere0 = pv.Sphere()\n",
        "sphere0['collisions'] = np.zeros(sphere0.n_cells, dtype=bool)\n",
        "# This mesh will be the moving mesh\n",
        "sphere1 = pv.Sphere(radius=0.6, center=(-1, 0, 0))"
      ],
      "metadata": {
        "id": "r9W1uEe0Fe9E"
      },
      "execution_count": null,
      "outputs": []
    },
    {
      "cell_type": "code",
      "source": [
        "pl = pv.Plotter()\n",
        "pl.enable_hidden_line_removal()\n",
        "pl.add_mesh(sphere0, scalars='collisions', show_scalar_bar=False, cmap='bwr')\n",
        "pl.camera_position = 'xz'\n",
        "pl.add_mesh(sphere1, style='wireframe', color='green', line_width=5)\n",
        "pl.open_gif(\"collision_movie.gif\")\n",
        "\n",
        "delta_x = 0.05\n",
        "for _ in range(int(2 / delta_x)):\n",
        "    sphere1.translate([delta_x, 0, 0], inplace=True)\n",
        "    col, n_contacts = sphere0.collision(sphere1)\n",
        "\n",
        "    collision_mask = np.zeros(sphere0.n_cells, dtype=bool)\n",
        "    if n_contacts:\n",
        "        collision_mask[col['ContactCells']] = True\n",
        "    sphere0['collisions'] = collision_mask\n",
        "    pl.write_frame()\n",
        "\n",
        "pl.close()"
      ],
      "metadata": {
        "id": "bCwjj126FgU2"
      },
      "execution_count": null,
      "outputs": []
    },
    {
      "cell_type": "markdown",
      "source": [
        "# 4.4 Trích xuất biên"
      ],
      "metadata": {
        "id": "U6KCpadbFjW2"
      }
    },
    {
      "cell_type": "code",
      "source": [
        "# Download the example CAD model and extract all feature edges above 45 degrees\n",
        "mesh = examples.download_cad_model()\n",
        "edges = mesh.extract_feature_edges(45)"
      ],
      "metadata": {
        "id": "NyDAgR_zFlWD"
      },
      "execution_count": null,
      "outputs": []
    },
    {
      "cell_type": "code",
      "source": [
        "p = pv.Plotter()\n",
        "p.add_mesh(mesh, color=True)\n",
        "p.add_mesh(edges, color=\"red\", line_width=5)\n",
        "p.camera.zoom(1.5)\n",
        "p.show()"
      ],
      "metadata": {
        "id": "UisBE9ZMFnNa"
      },
      "execution_count": null,
      "outputs": []
    },
    {
      "cell_type": "markdown",
      "source": [
        "# 4.5 Biểu diễn bề mặt - Marching Cubes\n",
        "Spider Cage"
      ],
      "metadata": {
        "id": "qcrKf5QDF0TG"
      }
    },
    {
      "cell_type": "code",
      "source": [
        "a = 0.9\n",
        "def spider_cage(x, y, z):\n",
        "    x2 = x * x\n",
        "    y2 = y * y\n",
        "    x2_y2 = x2 + y2\n",
        "    return (np.sqrt((x2 - y2) ** 2 / x2_y2 + 3 * (z * np.sin(a)) ** 2) - 3) ** 2 + 6 * (\n",
        "        np.sqrt((x * y) ** 2 / x2_y2 + (z * np.cos(a)) ** 2) - 1.5\n",
        "    ) ** 2"
      ],
      "metadata": {
        "id": "0YstuyoFF26J"
      },
      "execution_count": null,
      "outputs": []
    },
    {
      "cell_type": "code",
      "source": [
        "n = 100\n",
        "x_min, y_min, z_min = -5, -5, -3\n",
        "grid = pv.UniformGrid(\n",
        "    dimensions=(n, n, n),\n",
        "    spacing=(abs(x_min) / n * 2, abs(y_min) / n * 2, abs(z_min) / n * 2),\n",
        "    origin=(x_min, y_min, z_min),\n",
        ")\n",
        "x, y, z = grid.points.T"
      ],
      "metadata": {
        "id": "BNj1QUPoF5QF"
      },
      "execution_count": null,
      "outputs": []
    },
    {
      "cell_type": "code",
      "source": [
        "values = spider_cage(x, y, z)\n",
        "mesh = grid.contour([1], values, method='marching_cubes')\n",
        "dist = np.linalg.norm(mesh.points, axis=1)\n",
        "mesh.plot(scalars=dist, smooth_shading=True, specular=1, cmap=\"plasma\", show_scalar_bar=False)"
      ],
      "metadata": {
        "id": "rkoH51PEF61G"
      },
      "execution_count": null,
      "outputs": []
    },
    {
      "cell_type": "markdown",
      "source": [
        "Barth Sextic"
      ],
      "metadata": {
        "id": "eL6dGXucF9D1"
      }
    },
    {
      "cell_type": "code",
      "source": [
        "phi = (1 + np.sqrt(5)) / 2\n",
        "phi2 = phi * phi\n",
        "def barth_sextic(x, y, z):\n",
        "    x2 = x * x\n",
        "    y2 = y * y\n",
        "    z2 = z * z\n",
        "    arr = (\n",
        "        3 * (phi2 * x2 - y2) * (phi2 * y2 - z2) * (phi2 * z2 - x2)\n",
        "        - (1 + 2 * phi) * (x2 + y2 + z2 - 1) ** 2\n",
        "    )\n",
        "    nan_mask = x2 + y2 + z2 > 3.1\n",
        "    arr[nan_mask] = np.nan\n",
        "    return arr"
      ],
      "metadata": {
        "id": "FsWZykVMF9l0"
      },
      "execution_count": null,
      "outputs": []
    },
    {
      "cell_type": "code",
      "source": [
        "n = 100\n",
        "k = 2.0\n",
        "x_min, y_min, z_min = -k, -k, -k\n",
        "grid = pv.UniformGrid(\n",
        "    dimensions=(n, n, n),\n",
        "    spacing=(abs(x_min) / n * 2, abs(y_min) / n * 2, abs(z_min) / n * 2),\n",
        "    origin=(x_min, y_min, z_min),\n",
        ")\n",
        "x, y, z = grid.points.T"
      ],
      "metadata": {
        "id": "3LwNC8LLGOmC"
      },
      "execution_count": null,
      "outputs": []
    },
    {
      "cell_type": "code",
      "source": [
        "values = barth_sextic(x, y, z)\n",
        "mesh = grid.contour([0], values, method='flying_edges')\n",
        "dist = np.linalg.norm(mesh.points, axis=1)\n",
        "mesh.plot(scalars=dist, smooth_shading=True, specular=1, cmap=\"plasma\", show_scalar_bar=False)"
      ],
      "metadata": {
        "id": "b2xTQHdcGP6i"
      },
      "execution_count": null,
      "outputs": []
    },
    {
      "cell_type": "markdown",
      "source": [
        "Render Animate (chuyển động)"
      ],
      "metadata": {
        "id": "ht59kAwWGSAk"
      }
    },
    {
      "cell_type": "code",
      "source": [
        "def angle_to_range(angle):\n",
        "    return -2 * np.sin(angle)\n",
        "pl = pv.Plotter(window_size=[800, 800], off_screen=True)\n",
        "pl.open_gif('barth_sextic.gif')\n",
        "for angle in np.linspace(0, np.pi, 20, endpoint=False):\n",
        "    pl.clear()\n",
        "    pl.enable_lightkit()\n",
        "    mesh = grid.contour([angle_to_range(angle)], values, method='flying_edges')\n",
        "    dist = np.linalg.norm(mesh.points, axis=1)\n",
        "    pl.add_mesh(\n",
        "        mesh,\n",
        "        scalars=dist,\n",
        "        smooth_shading=True,\n",
        "        specular=1,\n",
        "        rng=[0.5, 1.5],\n",
        "        cmap=\"plasma\",\n",
        "        show_scalar_bar=False,\n",
        "    )\n",
        "    pl.write_frame()\n",
        "pl.close()"
      ],
      "metadata": {
        "id": "ZWbHpSxEGSqq"
      },
      "execution_count": null,
      "outputs": []
    },
    {
      "cell_type": "markdown",
      "source": [
        "# 4.6 Làm mịn Gaussian"
      ],
      "metadata": {
        "id": "a9m8Tt3nGa6R"
      }
    },
    {
      "cell_type": "code",
      "source": [
        "data = examples.download_gourds()\n",
        "cp = [(319.5, 239.5, 1053.7372980874645), (319.5, 239.5, 0.0), (0.0, 1.0, 0.0)]"
      ],
      "metadata": {
        "id": "RCGoNzkyGd_u"
      },
      "execution_count": null,
      "outputs": []
    },
    {
      "cell_type": "code",
      "source": [
        "p = pv.Plotter(shape=(2, 2))\n",
        "p.subplot(0, 0)\n",
        "p.add_text(\"Original Image\", font_size=14)\n",
        "p.add_mesh(data, rgb=True)\n",
        "p.camera_position = cp\n",
        "\n",
        "p.subplot(0, 1)\n",
        "p.add_text(\"Gaussian smoothing, std=2\", font_size=14)\n",
        "p.add_mesh(data.gaussian_smooth(std_dev=2.0), rgb=True)\n",
        "p.camera_position = cp\n",
        "\n",
        "p.subplot(1, 0)\n",
        "p.add_text(\"Gaussian smoothing, std=4\", font_size=14)\n",
        "p.add_mesh(data.gaussian_smooth(std_dev=4.0), rgb=True)\n",
        "p.camera_position = cp\n",
        "\n",
        "p.subplot(1, 1)\n",
        "p.add_text(\"Gaussian smoothing, std=8\", font_size=14)\n",
        "p.add_mesh(data.gaussian_smooth(std_dev=8.0), rgb=True)\n",
        "p.camera_position = cp\n",
        "\n",
        "p.show()"
      ],
      "metadata": {
        "id": "hr_-aVCdGgSu"
      },
      "execution_count": null,
      "outputs": []
    },
    {
      "cell_type": "markdown",
      "source": [
        "# 4.7 Biến đổi Fourier"
      ],
      "metadata": {
        "id": "h7I5gyK5GiZR"
      }
    },
    {
      "cell_type": "code",
      "source": [
        "freq = [10, 5, 0]\n",
        "noise = pv.perlin_noise(1, freq, (0, 0, 0))\n",
        "xdim, ydim = (2**9, 2**9)\n",
        "sampled = pv.sample_function(noise, bounds=(0, 10, 0, 10, 0, 10), dim=(xdim, ydim, 1))\n",
        "\n",
        "warped_noise = sampled.warp_by_scalar()\n",
        "warped_noise.plot(show_scalar_bar=False, text='Perlin Noise', lighting=False)"
      ],
      "metadata": {
        "id": "nlOZVk-1GkNr"
      },
      "execution_count": null,
      "outputs": []
    },
    {
      "cell_type": "code",
      "source": [
        "# Triển khai FFT\n",
        "sampled_fft = sampled.fft()\n",
        "freq = np.fft.fftfreq(sampled.dimensions[0], sampled.spacing[0])\n",
        "max_freq = freq.max()\n",
        "\n",
        "# only show the first quadrant\n",
        "subset = sampled_fft.extract_subset((0, xdim // 2, 0, ydim // 2, 0, 0))"
      ],
      "metadata": {
        "id": "sgpPaapUGnFh"
      },
      "execution_count": null,
      "outputs": []
    },
    {
      "cell_type": "code",
      "source": [
        "# Vẽ miền tần số\n",
        "# scale to make the plot viewable\n",
        "subset['scalars'] = np.abs(subset.active_scalars)\n",
        "warped_subset = subset.warp_by_scalar(factor=0.0001)\n",
        "\n",
        "pl = pv.Plotter(lighting='three lights')\n",
        "pl.add_mesh(warped_subset, cmap='blues', show_scalar_bar=False)\n",
        "pl.show_bounds(\n",
        "    axes_ranges=(0, max_freq, 0, max_freq, 0, warped_subset.bounds[-1]),\n",
        "    xtitle='X Frequency',\n",
        "    ytitle='Y Frequency',\n",
        "    ztitle='Amplitude',\n",
        "    show_zlabels=False,\n",
        "    color='k',\n",
        "    font_size=26,\n",
        ")\n",
        "pl.add_text('Frequency Domain of the Perlin Noise')\n",
        "pl.show()"
      ],
      "metadata": {
        "id": "_a4jmr7eGr6a"
      },
      "execution_count": null,
      "outputs": []
    },
    {
      "cell_type": "code",
      "source": [
        "# Bộ lọc thông thấp\n",
        "low_pass = sampled_fft.low_pass(1.0, 1.0, 1.0).rfft()\n",
        "low_pass['scalars'] = np.real(low_pass.active_scalars)\n",
        "warped_low_pass = low_pass.warp_by_scalar()\n",
        "warped_low_pass.plot(show_scalar_bar=False, text='Low Pass of the Perlin Noise', lighting=False)"
      ],
      "metadata": {
        "id": "CtnYN9YfGv_X"
      },
      "execution_count": null,
      "outputs": []
    },
    {
      "cell_type": "code",
      "source": [
        "# Bộ lọc thông cao\n",
        "high_pass = sampled_fft.high_pass(1.0, 1.0, 1.0).rfft()\n",
        "high_pass['scalars'] = np.real(high_pass.active_scalars)\n",
        "warped_high_pass = high_pass.warp_by_scalar()\n",
        "warped_high_pass.plot(show_scalar_bar=False, text='High Pass of the Perlin Noise', lighting=False)"
      ],
      "metadata": {
        "id": "Czy0lAT7Gz03"
      },
      "execution_count": null,
      "outputs": []
    },
    {
      "cell_type": "markdown",
      "source": [
        "Tạo Animate"
      ],
      "metadata": {
        "id": "ptVvMSoYG-AZ"
      }
    },
    {
      "cell_type": "code",
      "source": [
        "def warp_low_pass_noise(cfreq, scalar_ptp=sampled['scalars'].ptp()):\n",
        "    \"\"\"Process the sampled FFT and warp by scalars.\"\"\"\n",
        "    output = sampled_fft.low_pass(cfreq, cfreq, cfreq).rfft()\n",
        "\n",
        "    # on the left: raw FFT magnitude\n",
        "    output['scalars'] = output.active_scalars.real\n",
        "    warped_raw = output.warp_by_scalar()\n",
        "\n",
        "    # on the right: scale to fixed warped height\n",
        "    output_scaled = output.translate((-11, 11, 0), inplace=False)\n",
        "    output_scaled['scalars_warp'] = output['scalars'] / output['scalars'].ptp() * scalar_ptp\n",
        "    warped_scaled = output_scaled.warp_by_scalar('scalars_warp')\n",
        "    warped_scaled.active_scalars_name = 'scalars'\n",
        "    # push center back to xy plane due to peaks near 0 frequency\n",
        "    warped_scaled.translate((0, 0, -warped_scaled.center[-1]), inplace=True)\n",
        "\n",
        "    return warped_raw + warped_scaled\n",
        "\n",
        "\n",
        "# Initialize the plotter and plot off-screen to save the animation as a GIF.\n",
        "plotter = pv.Plotter(notebook=False, off_screen=True)\n",
        "plotter.open_gif(\"low_pass.gif\", fps=8)\n",
        "\n",
        "# add the initial mesh\n",
        "init_mesh = warp_low_pass_noise(1e-2)\n",
        "plotter.add_mesh(init_mesh, show_scalar_bar=False, lighting=False, n_colors=128)\n",
        "plotter.camera.zoom(1.3)\n",
        "\n",
        "for freq in np.geomspace(1e-2, 10, 25):\n",
        "    plotter.clear()\n",
        "    mesh = warp_low_pass_noise(freq)\n",
        "    plotter.add_mesh(mesh, show_scalar_bar=False, lighting=False, n_colors=128)\n",
        "    plotter.add_text(f\"Cutoff Frequency: {freq:.2f}\", color=\"black\")\n",
        "    plotter.write_frame()\n",
        "\n",
        "# write the last frame a few times to \"pause\" the gif\n",
        "for _ in range(10):\n",
        "    plotter.write_frame()\n",
        "\n",
        "plotter.close()"
      ],
      "metadata": {
        "id": "p4hS-QGpG8hw"
      },
      "execution_count": null,
      "outputs": []
    },
    {
      "cell_type": "markdown",
      "source": [
        "# 4.8 Lưới phản chiếu"
      ],
      "metadata": {
        "id": "tUdhuva8HFTZ"
      }
    },
    {
      "cell_type": "code",
      "source": [
        "airplane = examples.load_airplane()"
      ],
      "metadata": {
        "id": "TSmV-vinHHxZ"
      },
      "execution_count": null,
      "outputs": []
    },
    {
      "cell_type": "code",
      "source": [
        "airplane_reflected = airplane.reflect((0, 0, 1), point=(0, 0, -100))"
      ],
      "metadata": {
        "id": "FaLz2lIZHKM2"
      },
      "execution_count": null,
      "outputs": []
    },
    {
      "cell_type": "code",
      "source": [
        "p = pyvista.Plotter()\n",
        "p.add_mesh(airplane, show_edges=True)\n",
        "p.add_mesh(airplane_reflected, show_edges=True)\n",
        "p.show()"
      ],
      "metadata": {
        "id": "MyF3LRCpHLau"
      },
      "execution_count": null,
      "outputs": []
    },
    {
      "cell_type": "markdown",
      "source": [
        "# 4.8 Rotations\n",
        "Xác định góc nhìn và trục\n",
        "\n",
        "Xác định máy ảnh và trục. Đặt gốc tọa độ thành (3,0) - (3,0) - (3,0)"
      ],
      "metadata": {
        "id": "jpv95i7HHT2E"
      }
    },
    {
      "cell_type": "code",
      "source": [
        "mesh = examples.download_cow()\n",
        "mesh.points /= 1.5  # scale the mesh\n",
        "\n",
        "camera = pv.Camera()\n",
        "camera.position = (30.0, 30.0, 30.0)\n",
        "camera.focal_point = (5.0, 5.0, 5.0)\n",
        "\n",
        "axes = pv.Axes(show_actor=True, actor_scale=2.0, line_width=5)\n",
        "axes.origin = (3.0, 3.0, 3.0)"
      ],
      "metadata": {
        "id": "_ZrrE_A7HX05"
      },
      "execution_count": null,
      "outputs": []
    },
    {
      "cell_type": "code",
      "source": [
        "p = pv.Plotter()\n",
        "p.add_text(\"Mesh\", font_size=24)\n",
        "p.add_actor(axes.actor)\n",
        "p.camera = camera\n",
        "p.add_mesh(mesh)\n",
        "p.show()"
      ],
      "metadata": {
        "id": "qfQMz0mRHazF"
      },
      "execution_count": null,
      "outputs": []
    },
    {
      "cell_type": "markdown",
      "source": [
        "Xoay quanh trục x"
      ],
      "metadata": {
        "id": "vhHQ2DuJHc8Y"
      }
    },
    {
      "cell_type": "code",
      "source": [
        "p = pv.Plotter()\n",
        "p.add_text(\"X-Axis Rotation\", font_size=24)\n",
        "p.add_actor(axes.actor)\n",
        "p.camera = camera\n",
        "\n",
        "for i in range(6):\n",
        "    rot = mesh.rotate_x(60 * i, point=axes.origin, inplace=False)\n",
        "    p.add_mesh(rot)\n",
        "\n",
        "p.show()"
      ],
      "metadata": {
        "id": "W0KcTwQxHdgZ"
      },
      "execution_count": null,
      "outputs": []
    },
    {
      "cell_type": "markdown",
      "source": [
        "Xoay quanh trục y"
      ],
      "metadata": {
        "id": "oB5ti43WHf2-"
      }
    },
    {
      "cell_type": "code",
      "source": [
        "p = pv.Plotter()\n",
        "p.add_text(\"Y-Axis Rotation\", font_size=24)\n",
        "p.camera = camera\n",
        "p.add_actor(axes.actor)\n",
        "for i in range(6):\n",
        "    rot = mesh.rotate_y(60 * i, point=axes.origin, inplace=False)\n",
        "    p.add_mesh(rot)\n",
        "\n",
        "p.show()"
      ],
      "metadata": {
        "id": "O1ycYSyrHgYa"
      },
      "execution_count": null,
      "outputs": []
    },
    {
      "cell_type": "markdown",
      "source": [
        "Xoay quanh trục z"
      ],
      "metadata": {
        "id": "RCvf5EgvHidQ"
      }
    },
    {
      "cell_type": "code",
      "source": [
        "p = pv.Plotter()\n",
        "p.add_text(\"Z-Axis Rotation\", font_size=24)\n",
        "p.camera = camera\n",
        "p.add_actor(axes.actor)\n",
        "for i in range(6):\n",
        "    rot = mesh.rotate_z(60 * i, point=axes.origin, inplace=False)\n",
        "    p.add_mesh(rot)\n",
        "p.show()"
      ],
      "metadata": {
        "id": "7QWdekLtHjhD"
      },
      "execution_count": null,
      "outputs": []
    },
    {
      "cell_type": "markdown",
      "source": [
        "Xoay quanh một vector tùy chỉnh"
      ],
      "metadata": {
        "id": "jMiKWT3vHnv7"
      }
    },
    {
      "cell_type": "code",
      "source": [
        "p = pv.Plotter()\n",
        "p.add_text(\"Custom Vector Rotation\", font_size=24)\n",
        "p.camera = camera\n",
        "p.add_actor(axes.actor)\n",
        "for i in range(6):\n",
        "    rot = mesh.copy()\n",
        "    rot.rotate_vector(vector=(1, 1, 1), angle=60 * i, point=axes.origin)\n",
        "    p.add_mesh(rot)\n",
        "p.show()"
      ],
      "metadata": {
        "id": "UsJNRJpBHmXP"
      },
      "execution_count": null,
      "outputs": []
    },
    {
      "cell_type": "markdown",
      "source": [
        "# 4.9 Subdivide Cells"
      ],
      "metadata": {
        "id": "Dez3ce59HpJi"
      }
    },
    {
      "cell_type": "code",
      "source": [
        "mesh = examples.download_bunny_coarse().triangulate()\n",
        "cpos = [\n",
        "    (-0.02788175062966399, 0.19293295656233056, 0.4334449972621349),\n",
        "    (-0.053260899930287015, 0.08881197167521734, -9.016948161029588e-05),\n",
        "    (-0.10170607813337212, 0.9686438023715356, -0.22668272496584665),\n",
        "]"
      ],
      "metadata": {
        "id": "NSvMBvh7HutA"
      },
      "execution_count": null,
      "outputs": []
    },
    {
      "cell_type": "code",
      "source": [
        "def plot_subdivisions(mesh, a, b):\n",
        "    display_args = dict(show_edges=True, color=True)\n",
        "    p = pv.Plotter(shape=(3, 3))\n",
        "\n",
        "    for i in range(3):\n",
        "        p.subplot(i, 0)\n",
        "        p.add_mesh(mesh, **display_args)\n",
        "        p.add_text(\"Original Mesh\")\n",
        "\n",
        "    def row_plot(row, subfilter):\n",
        "        subs = [a, b]\n",
        "        for i in range(2):\n",
        "            p.subplot(row, i + 1)\n",
        "            p.add_mesh(mesh.subdivide(subs[i], subfilter=subfilter), **display_args)\n",
        "            p.add_text(f\"{subfilter} subdivision of {subs[i]}\")\n",
        "\n",
        "    row_plot(0, \"linear\")\n",
        "    row_plot(1, \"butterfly\")\n",
        "    row_plot(2, \"loop\")\n",
        "\n",
        "    p.link_views()\n",
        "    p.view_isometric()\n",
        "    return p"
      ],
      "metadata": {
        "id": "4JT8oW9mHyIh"
      },
      "execution_count": null,
      "outputs": []
    },
    {
      "cell_type": "code",
      "source": [
        "plotter = plot_subdivisions(mesh, 1, 3)\n",
        "plotter.camera_position = cpos\n",
        "plotter.show()"
      ],
      "metadata": {
        "id": "vVKefNk8H-RJ"
      },
      "execution_count": null,
      "outputs": []
    },
    {
      "cell_type": "markdown",
      "source": [
        "# 4.10 Làm nhẵn bề mặt"
      ],
      "metadata": {
        "id": "btBgRW2iIMeU"
      }
    },
    {
      "cell_type": "code",
      "source": [
        "# Vector to view rough edges\n",
        "cpos = [-2, 5, 3]\n",
        "# Load dataset\n",
        "data = examples.load_uniform()\n",
        "# Extract a rugged volume\n",
        "vol = data.threshold_percent(30, invert=1)\n",
        "vol.plot(show_edges=True, cpos=cpos, show_scalar_bar=False)"
      ],
      "metadata": {
        "id": "iM-v9PEIIP0-"
      },
      "execution_count": null,
      "outputs": []
    },
    {
      "cell_type": "markdown",
      "source": [
        "Làm mịn Laplacian:"
      ],
      "metadata": {
        "id": "DeYhhRbLIR3o"
      }
    },
    {
      "cell_type": "code",
      "source": [
        "# Smooth the surface even more\n",
        "smooth = surf.smooth(n_iter=100)\n",
        "smooth.plot(show_edges=True, cpos=cpos, show_scalar_bar=False)"
      ],
      "metadata": {
        "id": "XCITRO74ISkT"
      },
      "execution_count": null,
      "outputs": []
    },
    {
      "cell_type": "markdown",
      "source": [
        "# 4.11 Tái tạo bề mặt"
      ],
      "metadata": {
        "id": "9MwfHdMWIWXZ"
      }
    },
    {
      "cell_type": "code",
      "source": [
        "points = pv.wrap(pv.Sphere().points)\n",
        "surf = points.reconstruct_surface()\n",
        "surf"
      ],
      "metadata": {
        "id": "yvkM0b1BIaCN"
      },
      "execution_count": null,
      "outputs": []
    },
    {
      "cell_type": "code",
      "source": [
        "pl = pv.Plotter(shape=(1, 2))\n",
        "pl.add_mesh(points)\n",
        "pl.add_title('Point Cloud of 3D Surface')\n",
        "pl.subplot(0, 1)\n",
        "pl.add_mesh(surf, color=True, show_edges=True)\n",
        "pl.add_title('Reconstructed Surface')\n",
        "pl.show()"
      ],
      "metadata": {
        "id": "F2kQd0chIafi"
      },
      "execution_count": null,
      "outputs": []
    },
    {
      "cell_type": "markdown",
      "source": [
        "# 4.12 Warping by Vectors"
      ],
      "metadata": {
        "id": "wvBVCdGaImX5"
      }
    },
    {
      "cell_type": "markdown",
      "source": [
        "Đầu tiên chúng ta so sánh quả cầu không cong vênh với quả cầu cong vênh."
      ],
      "metadata": {
        "id": "j4KIow1yIxwM"
      }
    },
    {
      "cell_type": "code",
      "source": [
        "import pyvista as pv\n",
        "from pyvista import examples\n",
        "\n",
        "sphere = examples.load_sphere_vectors()\n",
        "warped = sphere.warp_by_vector()\n",
        "\n",
        "p = pv.Plotter(shape=(1, 2))\n",
        "p.subplot(0, 0)\n",
        "p.add_text(\"Before warp\")\n",
        "p.add_mesh(sphere, color='white')\n",
        "p.subplot(0, 1)\n",
        "p.add_text(\"After warp\")\n",
        "p.add_mesh(warped, color='white')\n",
        "p.show()"
      ],
      "metadata": {
        "id": "4a1toReGIoyh"
      },
      "execution_count": null,
      "outputs": []
    },
    {
      "cell_type": "markdown",
      "source": [
        "Sau đó, chúng tôi sử dụng một số giá trị cho hệ số tỷ lệ được áp dụng cho thao tác dọc. Áp dụng hệ số cong vênh quá cao thường có thể dẫn đến kết quả không thực tế"
      ],
      "metadata": {
        "id": "IgNNPA3AIvBw"
      }
    },
    {
      "cell_type": "code",
      "source": [
        "warp_factors = [0, 1.5, 3.5, 5.5]\n",
        "p = pv.Plotter(shape=(2, 2))\n",
        "for i in range(2):\n",
        "    for j in range(2):\n",
        "        idx = 2 * i + j\n",
        "        p.subplot(i, j)\n",
        "        p.add_mesh(sphere.warp_by_vector(factor=warp_factors[idx]))\n",
        "        p.add_text(f'factor={warp_factors[idx]}')\n",
        "p.show()"
      ],
      "metadata": {
        "id": "f4Ie1qiPItmr"
      },
      "execution_count": null,
      "outputs": []
    }
  ]
}