{
  "nbformat": 4,
  "nbformat_minor": 0,
  "metadata": {
    "colab": {
      "provenance": [],
      "toc_visible": true,
      "include_colab_link": true
    },
    "kernelspec": {
      "name": "python3",
      "display_name": "Python 3"
    },
    "language_info": {
      "name": "python"
    }
  },
  "cells": [
    {
      "cell_type": "markdown",
      "metadata": {
        "id": "view-in-github",
        "colab_type": "text"
      },
      "source": [
        "<a href=\"https://colab.research.google.com/github/NguyenHNhan/pyvista_3D/blob/main/%C4%90%C3%A1m_m%C3%A2y_%C4%91i%E1%BB%83m.ipynb\" target=\"_parent\"><img src=\"https://colab.research.google.com/assets/colab-badge.svg\" alt=\"Open In Colab\"/></a>"
      ]
    },
    {
      "cell_type": "markdown",
      "source": [
        "# ĐÁM MÂY ĐIỂM NGẪU NHIÊN\n"
      ],
      "metadata": {
        "id": "CrIsHS9Sr-VZ"
      }
    },
    {
      "cell_type": "code",
      "execution_count": null,
      "metadata": {
        "id": "Q8QVBahzrWyf"
      },
      "outputs": [],
      "source": [
        "import numpy as np\n",
        "import pyvista as pv"
      ]
    },
    {
      "cell_type": "code",
      "source": [
        "# generate random points\n",
        "n_points = 2000\n",
        "points = np.random.uniform(-1, 1, (n_points, 3))"
      ],
      "metadata": {
        "id": "e9bC7Qxbr8mV"
      },
      "execution_count": null,
      "outputs": []
    },
    {
      "cell_type": "code",
      "source": [
        "cloud = pv.PolyData(points)"
      ],
      "metadata": {
        "id": "Eq0MmEPjsGuA"
      },
      "execution_count": null,
      "outputs": []
    },
    {
      "cell_type": "markdown",
      "source": [
        "Hiển thị point cloud dưới dạng hình cầu (spheres)"
      ],
      "metadata": {
        "id": "8jgq6cnusQn-"
      }
    },
    {
      "cell_type": "code",
      "source": [
        "cloud.plot()cloud.plot(render_points_as_spheres=True, color = 'white')"
      ],
      "metadata": {
        "id": "lZID3cn4sJEV"
      },
      "execution_count": null,
      "outputs": []
    },
    {
      "cell_type": "code",
      "source": [
        "Thiết lập màu sắc với Scalar\n",
        "\n",
        "Sử dụng pv.plot để trực quan hóa điểm đám mây.\n",
        "\n",
        "points: một mảng numpy chứa tọa độ các điểm trong không gian 3 chiều.\n",
        "scalars: một mảng numpy chứa giá trị số liệu (scalar) được gán cho mỗi điểm. Trong đoạn code này, chúng ta sử dụng giá trị points[:, 2] để gán giá trị scalar cho mỗi điểm. Điều này có nghĩa là giá trị scalar của mỗi điểm là tọa độ z của nó.\n",
        "render_points_as_spheres: tham số này xác định cách trực quan hóa các điểm. Khi được đặt thành True, mỗi điểm sẽ được trực quan hóa dưới dạng một quả cầu, ngược lại khi được đặt thành False, các điểm sẽ được trực quan hóa dưới dạng các điểm 2D thông thường.\n",
        "point_size: kích thước của mỗi điểm, được đo bằng pixel.\n",
        "Thiết lập màu sắc bằng tham số color. Ngoài ra, chúng ta có thể tô màu đám mây điểm bằng mảng RGBA. Điều này đã được chuẩn hóa từ (0, 1), nhưng chúng ta cũng có thể sử dụng một numpy.uint8 mảng từ 0-255."
      ],
      "metadata": {
        "id": "Di0Pe9Z6sbFY"
      },
      "execution_count": null,
      "outputs": []
    },
    {
      "cell_type": "code",
      "source": [
        "pv.plot(\n",
        "    points,\n",
        "    scalars=points[:, 2],\n",
        "    render_points_as_spheres=True,\n",
        "    point_size= 5,\n",
        "    show_scalar_bar=False,\n",
        ")"
      ],
      "metadata": {
        "id": "z7o3Sat4suvl"
      },
      "execution_count": null,
      "outputs": []
    },
    {
      "cell_type": "code",
      "source": [
        "# Thiết lập GRBA\n",
        "rgba = points - points.min(axis=0)\n",
        "rgba /= rgba.max(axis=0)\n",
        "pv.plot(points, scalars=rgba, render_points_as_spheres=True, point_size=20, cpos='xy', rgba=True)"
      ],
      "metadata": {
        "id": "l9lrMVD2s2ZG"
      },
      "execution_count": null,
      "outputs": []
    },
    {
      "cell_type": "code",
      "source": [
        "# Đọc file ply\n",
        "obj = pv.read('path to file ply')"
      ],
      "metadata": {
        "id": "WkjKRcdts-bM"
      },
      "execution_count": null,
      "outputs": []
    },
    {
      "cell_type": "markdown",
      "source": [
        "# Quay một đám mây điểm"
      ],
      "metadata": {
        "id": "ViFSoYS7tL9h"
      }
    },
    {
      "cell_type": "code",
      "source": [
        "from pyvista import examples\n",
        "cloud = examples.download_cloud_dark_matter()\n",
        "scalars = np.linalg.norm(cloud.points - cloud.center, axis=1)\n",
        "\n",
        "pl = pv.Plotter(off_screen=True)\n",
        "pl.add_mesh(\n",
        "    cloud,\n",
        "    style='points_gaussian',\n",
        "    color='#fff7c2',\n",
        "    scalars=scalars,\n",
        "    opacity=0.25,\n",
        "    point_size=4.0,\n",
        "    show_scalar_bar=False,\n",
        ")\n",
        "pl.background_color = 'k'\n",
        "pl.show(auto_close=False)\n",
        "path = pl.generate_orbital_path(n_points=36, shift=cloud.length, factor=3.0)\n",
        "pl.open_gif(\"orbit_cloud.gif\")\n",
        "pl.orbit_on_path(path, write_frames=True)\n",
        "pl.close()"
      ],
      "metadata": {
        "id": "7DPXHqustEvt"
      },
      "execution_count": null,
      "outputs": []
    }
  ]
}